{
 "cells": [
  {
   "cell_type": "code",
   "execution_count": null,
   "id": "c45a8859",
   "metadata": {},
   "outputs": [],
   "source": [
    "def subarraySort(array):\n",
    "    # Write your code here.\n",
    "\ta, b = 0, (len(array)-1)\n",
    "    l, h = float('inf'), float('-inf')\n",
    "\t#For finding Smallest and Largest element among Unsorted elements\n",
    "\tfor i in range(len(array)):\n",
    "\t\tif IsOutOfOrder(i, array):\n",
    "\t\t\tl = min(l, array[i])\n",
    "\t\t\th = max(h, array[i])\n",
    "\t#If the Array is already Sorted\t\t\n",
    "\tif l == float('inf') or h == float('-inf'):\n",
    "\t\treturn [-1, -1]\n",
    "\t#for finding first index\n",
    "\twhile array[a] <= l:\n",
    "\t\ta += 1\n",
    "\t#for finding second index\t\n",
    "\twhile array[b] >= h:\n",
    "\t\tb -= 1\n",
    "\treturn [a, b]\n",
    "#Helper function to find weather that particular element is Unsorted!\t\t\n",
    "def IsOutOfOrder(i, array):\n",
    "\tif i == 0:\n",
    "\t\treturn array[i] > array[i+1]\n",
    "\telif i == len(array)-1:\n",
    "\t\treturn array[i] < array[i-1]\n",
    "\telse:\n",
    "\t\treturn (array[i] < array[i-1]) or (array[i] > array[i+1])\n"
   ]
  }
 ],
 "metadata": {
  "kernelspec": {
   "display_name": "Python 3 (ipykernel)",
   "language": "python",
   "name": "python3"
  },
  "language_info": {
   "codemirror_mode": {
    "name": "ipython",
    "version": 3
   },
   "file_extension": ".py",
   "mimetype": "text/x-python",
   "name": "python",
   "nbconvert_exporter": "python",
   "pygments_lexer": "ipython3",
   "version": "3.9.7"
  }
 },
 "nbformat": 4,
 "nbformat_minor": 5
}
