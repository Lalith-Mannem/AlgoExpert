{
 "cells": [
  {
   "cell_type": "code",
   "execution_count": null,
   "id": "1f31bbbf",
   "metadata": {},
   "outputs": [],
   "source": [
    "# Time    -- O(nlogn)\n",
    "# Space   -- O(1)\n",
    "def twoNumberSum(array, targetSum):\n",
    "    # Write your code here.\n",
    "    array = sorted(array)\n",
    "    low, high = 0, len(array)-1\n",
    "    while low < high:\n",
    "        Num1 = array[low]\n",
    "        Num2 = array[high]\n",
    "        if Num1 + Num2 == targetSum:\n",
    "            return [Num1, Num2]\n",
    "        elif Num1 + Num2 < targetSum:\n",
    "            low += 1\n",
    "        else:\n",
    "            high -= 1\n",
    "    return []\n"
   ]
  }
 ],
 "metadata": {
  "kernelspec": {
   "display_name": "Python 3 (ipykernel)",
   "language": "python",
   "name": "python3"
  },
  "language_info": {
   "codemirror_mode": {
    "name": "ipython",
    "version": 3
   },
   "file_extension": ".py",
   "mimetype": "text/x-python",
   "name": "python",
   "nbconvert_exporter": "python",
   "pygments_lexer": "ipython3",
   "version": "3.9.7"
  }
 },
 "nbformat": 4,
 "nbformat_minor": 5
}
