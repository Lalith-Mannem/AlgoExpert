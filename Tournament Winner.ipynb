{
 "cells": [
  {
   "cell_type": "code",
   "execution_count": null,
   "id": "311d8173",
   "metadata": {},
   "outputs": [],
   "source": [
    "def tournamentWinner(competitions, results):\n",
    "    # Write your code here.\n",
    "\tBestTeam = \"\"\n",
    "    MaxScore = 0\n",
    "    scores = {}\n",
    "    for i in range(len(competitions)):\n",
    "        homeTeam, awayTeam = competitions[i]\n",
    "        if results[i] == 0:\n",
    "            scores[awayTeam] = 3 + scores.get(awayTeam, 0)\n",
    "            if scores[awayTeam] > MaxScore:\n",
    "                BestTeam = awayTeam\n",
    "                MaxScore = scores[awayTeam]\n",
    "        else:\n",
    "            scores[homeTeam] = 3 + scores.get(homeTeam, 0)\n",
    "            if scores[homeTeam] > MaxScore:\n",
    "                BestTeam = homeTeam\n",
    "                MaxScore = scores[homeTeam]\n",
    "    return BestTeam"
   ]
  }
 ],
 "metadata": {
  "kernelspec": {
   "display_name": "Python 3 (ipykernel)",
   "language": "python",
   "name": "python3"
  },
  "language_info": {
   "codemirror_mode": {
    "name": "ipython",
    "version": 3
   },
   "file_extension": ".py",
   "mimetype": "text/x-python",
   "name": "python",
   "nbconvert_exporter": "python",
   "pygments_lexer": "ipython3",
   "version": "3.9.7"
  }
 },
 "nbformat": 4,
 "nbformat_minor": 5
}
