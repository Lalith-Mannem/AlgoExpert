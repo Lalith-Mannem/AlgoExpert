{
 "cells": [
  {
   "cell_type": "code",
   "execution_count": null,
   "id": "6680705b",
   "metadata": {},
   "outputs": [],
   "source": [
    "# Time    -- O(n)\n",
    "# Space   -- O(n)\n",
    "def twoNumberSum(array, targetSum):\n",
    "    # Write your code here.\n",
    "    hm = {}\n",
    "    for i in range(len(array)):\n",
    "        Num1 = array[i]\n",
    "        diff = targetSum - Num1\n",
    "        if diff in hm:\n",
    "            return [Num1, diff]\n",
    "        else:\n",
    "            hm[Num1] = i\n",
    "    return []"
   ]
  }
 ],
 "metadata": {
  "kernelspec": {
   "display_name": "Python 3 (ipykernel)",
   "language": "python",
   "name": "python3"
  },
  "language_info": {
   "codemirror_mode": {
    "name": "ipython",
    "version": 3
   },
   "file_extension": ".py",
   "mimetype": "text/x-python",
   "name": "python",
   "nbconvert_exporter": "python",
   "pygments_lexer": "ipython3",
   "version": "3.9.7"
  }
 },
 "nbformat": 4,
 "nbformat_minor": 5
}
